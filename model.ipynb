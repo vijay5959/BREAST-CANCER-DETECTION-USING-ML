{
 "cells": [
  {
   "cell_type": "code",
   "execution_count": 101,
   "metadata": {},
   "outputs": [],
   "source": [
    "import pandas as pd\n",
    "df=pd.read_csv('data.csv')\n"
   ]
  },
  {
   "cell_type": "code",
   "execution_count": 102,
   "metadata": {},
   "outputs": [],
   "source": [
    "selected_features = [\n",
    "    \"concave points_worst\", \"perimeter_worst\", \"concave points_mean\",\n",
    "    \"radius_worst\", \"perimeter_mean\", \"area_worst\",\n",
    "    \"radius_mean\", \"area_mean\", \"concavity_mean\", \"concavity_worst\"\n",
    "]"
   ]
  },
  {
   "cell_type": "code",
   "execution_count": 103,
   "metadata": {},
   "outputs": [],
   "source": [
    "X = df[selected_features]  # Independent variables\n",
    "Y = df[\"diagnosis\"]  # Target variable "
   ]
  },
  {
   "cell_type": "code",
   "execution_count": 104,
   "metadata": {},
   "outputs": [
    {
     "data": {
      "text/plain": [
       "(     concave points_worst  perimeter_worst  concave points_mean  radius_worst  \\\n",
       " 0                  0.2654           184.60              0.14710        25.380   \n",
       " 1                  0.1860           158.80              0.07017        24.990   \n",
       " 2                  0.2430           152.50              0.12790        23.570   \n",
       " 3                  0.2575            98.87              0.10520        14.910   \n",
       " 4                  0.1625           152.20              0.10430        22.540   \n",
       " ..                    ...              ...                  ...           ...   \n",
       " 564                0.2216           166.10              0.13890        25.450   \n",
       " 565                0.1628           155.00              0.09791        23.690   \n",
       " 566                0.1418           126.70              0.05302        18.980   \n",
       " 567                0.2650           184.60              0.15200        25.740   \n",
       " 568                0.0000            59.16              0.00000         9.456   \n",
       " \n",
       "      perimeter_mean  area_worst  radius_mean  area_mean  concavity_mean  \\\n",
       " 0            122.80      2019.0        17.99     1001.0         0.30010   \n",
       " 1            132.90      1956.0        20.57     1326.0         0.08690   \n",
       " 2            130.00      1709.0        19.69     1203.0         0.19740   \n",
       " 3             77.58       567.7        11.42      386.1         0.24140   \n",
       " 4            135.10      1575.0        20.29     1297.0         0.19800   \n",
       " ..              ...         ...          ...        ...             ...   \n",
       " 564          142.00      2027.0        21.56     1479.0         0.24390   \n",
       " 565          131.20      1731.0        20.13     1261.0         0.14400   \n",
       " 566          108.30      1124.0        16.60      858.1         0.09251   \n",
       " 567          140.10      1821.0        20.60     1265.0         0.35140   \n",
       " 568           47.92       268.6         7.76      181.0         0.00000   \n",
       " \n",
       "      concavity_worst  \n",
       " 0             0.7119  \n",
       " 1             0.2416  \n",
       " 2             0.4504  \n",
       " 3             0.6869  \n",
       " 4             0.4000  \n",
       " ..               ...  \n",
       " 564           0.4107  \n",
       " 565           0.3215  \n",
       " 566           0.3403  \n",
       " 567           0.9387  \n",
       " 568           0.0000  \n",
       " \n",
       " [569 rows x 10 columns],\n",
       " 0      M\n",
       " 1      M\n",
       " 2      M\n",
       " 3      M\n",
       " 4      M\n",
       "       ..\n",
       " 564    M\n",
       " 565    M\n",
       " 566    M\n",
       " 567    M\n",
       " 568    B\n",
       " Name: diagnosis, Length: 569, dtype: object)"
      ]
     },
     "execution_count": 104,
     "metadata": {},
     "output_type": "execute_result"
    }
   ],
   "source": [
    "X,Y"
   ]
  },
  {
   "cell_type": "code",
   "execution_count": 105,
   "metadata": {},
   "outputs": [],
   "source": [
    "from sklearn.preprocessing import LabelEncoder\n",
    "label_encoder = LabelEncoder()\n",
    "Y = label_encoder.fit_transform(Y) "
   ]
  },
  {
   "cell_type": "markdown",
   "metadata": {},
   "source": []
  },
  {
   "cell_type": "code",
   "execution_count": 106,
   "metadata": {},
   "outputs": [
    {
     "data": {
      "text/plain": [
       "array([1, 1, 1, 1, 1, 1, 1, 1, 1, 1, 1, 1, 1, 1, 1, 1, 1, 1, 1, 0, 0, 0,\n",
       "       1, 1, 1, 1, 1, 1, 1, 1, 1, 1, 1, 1, 1, 1, 1, 0, 1, 1, 1, 1, 1, 1,\n",
       "       1, 1, 0, 1, 0, 0, 0, 0, 0, 1, 1, 0, 1, 1, 0, 0, 0, 0, 1, 0, 1, 1,\n",
       "       0, 0, 0, 0, 1, 0, 1, 1, 0, 1, 0, 1, 1, 0, 0, 0, 1, 1, 0, 1, 1, 1,\n",
       "       0, 0, 0, 1, 0, 0, 1, 1, 0, 0, 0, 1, 1, 0, 0, 0, 0, 1, 0, 0, 1, 0,\n",
       "       0, 0, 0, 0, 0, 0, 0, 1, 1, 1, 0, 1, 1, 0, 0, 0, 1, 1, 0, 1, 0, 1,\n",
       "       1, 0, 1, 1, 0, 0, 1, 0, 0, 1, 0, 0, 0, 0, 1, 0, 0, 0, 0, 0, 0, 0,\n",
       "       0, 0, 1, 0, 0, 0, 0, 1, 1, 0, 1, 0, 0, 1, 1, 0, 0, 1, 1, 0, 0, 0,\n",
       "       0, 1, 0, 0, 1, 1, 1, 0, 1, 0, 1, 0, 0, 0, 1, 0, 0, 1, 1, 0, 1, 1,\n",
       "       1, 1, 0, 1, 1, 1, 0, 1, 0, 1, 0, 0, 1, 0, 1, 1, 1, 1, 0, 0, 1, 1,\n",
       "       0, 0, 0, 1, 0, 0, 0, 0, 0, 1, 1, 0, 0, 1, 0, 0, 1, 1, 0, 1, 0, 0,\n",
       "       0, 0, 1, 0, 0, 0, 0, 0, 1, 0, 1, 1, 1, 1, 1, 1, 1, 1, 1, 1, 1, 1,\n",
       "       1, 1, 0, 0, 0, 0, 0, 0, 1, 0, 1, 0, 0, 1, 0, 0, 1, 0, 1, 1, 0, 0,\n",
       "       0, 0, 0, 0, 0, 0, 0, 0, 0, 0, 0, 1, 0, 0, 1, 0, 1, 0, 0, 0, 0, 0,\n",
       "       0, 0, 0, 0, 0, 0, 0, 0, 0, 1, 0, 0, 0, 1, 0, 1, 0, 0, 0, 0, 1, 1,\n",
       "       1, 0, 0, 0, 0, 1, 0, 1, 0, 1, 0, 0, 0, 1, 0, 0, 0, 0, 0, 0, 0, 1,\n",
       "       1, 1, 0, 0, 0, 0, 0, 0, 0, 0, 0, 0, 0, 1, 1, 0, 1, 1, 1, 0, 1, 1,\n",
       "       0, 0, 0, 0, 0, 1, 0, 0, 0, 0, 0, 1, 0, 0, 0, 1, 0, 0, 1, 1, 0, 0,\n",
       "       0, 0, 0, 0, 1, 0, 0, 0, 0, 0, 0, 0, 1, 0, 0, 0, 0, 0, 1, 0, 0, 1,\n",
       "       0, 0, 0, 0, 0, 0, 0, 0, 0, 0, 0, 0, 1, 0, 1, 1, 0, 1, 0, 0, 0, 0,\n",
       "       0, 1, 0, 0, 1, 0, 1, 0, 0, 1, 0, 1, 0, 0, 0, 0, 0, 0, 0, 0, 1, 1,\n",
       "       0, 0, 0, 0, 0, 0, 1, 0, 0, 0, 0, 0, 0, 0, 0, 0, 0, 1, 0, 0, 0, 0,\n",
       "       0, 0, 0, 1, 0, 1, 0, 0, 1, 0, 0, 0, 0, 0, 1, 1, 0, 1, 0, 1, 0, 0,\n",
       "       0, 0, 0, 1, 0, 0, 1, 0, 1, 0, 1, 1, 0, 0, 0, 1, 0, 0, 0, 0, 0, 0,\n",
       "       0, 0, 0, 0, 0, 1, 0, 1, 1, 0, 0, 0, 0, 0, 0, 0, 0, 0, 0, 0, 0, 0,\n",
       "       0, 0, 0, 0, 0, 0, 0, 0, 0, 0, 0, 0, 1, 1, 1, 1, 1, 1, 0])"
      ]
     },
     "execution_count": 106,
     "metadata": {},
     "output_type": "execute_result"
    }
   ],
   "source": [
    "Y"
   ]
  },
  {
   "cell_type": "code",
   "execution_count": 107,
   "metadata": {},
   "outputs": [],
   "source": [
    "\n",
    "from sklearn.model_selection import train_test_split\n",
    "X_train, X_test, Y_train, Y_test = train_test_split(X, Y, test_size=0.2, random_state=42)"
   ]
  },
  {
   "cell_type": "code",
   "execution_count": 108,
   "metadata": {},
   "outputs": [],
   "source": [
    "from sklearn.preprocessing import StandardScaler\n",
    "scaler = StandardScaler()\n",
    "X_train = scaler.fit_transform(X_train)\n",
    "X_test = scaler.transform(X_test) "
   ]
  },
  {
   "cell_type": "code",
   "execution_count": 109,
   "metadata": {},
   "outputs": [
    {
     "data": {
      "text/plain": [
       "array([[ 0.9320124 , -1.24792009, -0.11914956, ..., -1.1391179 ,\n",
       "         2.82313451,  4.67282796],\n",
       "       [ 2.6989469 ,  2.08161691,  2.66503199, ...,  1.85197292,\n",
       "         2.01311199,  1.92862053],\n",
       "       [-0.97023893, -1.24522047, -0.69650228, ..., -1.10978518,\n",
       "        -0.36555756, -0.64491059],\n",
       "       ...,\n",
       "       [-1.23903365, -0.37984081, -1.10551525, ..., -0.06142266,\n",
       "        -1.02856666, -1.12796759],\n",
       "       [ 1.05001236,  0.20387802,  0.43005885, ..., -0.15477966,\n",
       "         0.29858532,  0.63253231],\n",
       "       [-0.61102866, -0.67559968, -0.80434493, ..., -0.5518995 ,\n",
       "        -0.81969927, -0.76538799]])"
      ]
     },
     "execution_count": 109,
     "metadata": {},
     "output_type": "execute_result"
    }
   ],
   "source": [
    "X_train"
   ]
  },
  {
   "cell_type": "code",
   "execution_count": 110,
   "metadata": {},
   "outputs": [
    {
     "name": "stdout",
     "output_type": "stream",
     "text": [
      "\n",
      "Model: Linear Regression\n",
      "Accuracy: 0.9561\n",
      "Precision: 0.9750\n",
      "Recall: 0.9070\n",
      "F1-score: 0.9398\n",
      "\n",
      "Model: Random Forest\n",
      "Accuracy: 0.9474\n",
      "Precision: 0.9512\n",
      "Recall: 0.9070\n",
      "F1-score: 0.9286\n",
      "\n",
      "Model: Decision Tree\n",
      "Accuracy: 0.9211\n",
      "Precision: 0.9250\n",
      "Recall: 0.8605\n",
      "F1-score: 0.8916\n"
     ]
    }
   ],
   "source": [
    "from sklearn.linear_model import LinearRegression\n",
    "from sklearn.tree import DecisionTreeClassifier\n",
    "from sklearn.ensemble import RandomForestClassifier\n",
    "from sklearn.metrics import accuracy_score, precision_score, recall_score, f1_score\n",
    "\n",
    "# Models for evaluation\n",
    "models = {\n",
    "    \"Linear Regression\": LinearRegression(),  # Linear Regression as a classifier\n",
    "    \"Random Forest\": RandomForestClassifier(),\n",
    "    \"Decision Tree\": DecisionTreeClassifier()\n",
    "}\n",
    "\n",
    "# Threshold for binary classification (you can adjust this threshold based on your problem)\n",
    "threshold = 0.5\n",
    "\n",
    "# Evaluate models\n",
    "results = {}\n",
    "for name, model in models.items():\n",
    "    model.fit(X_train, Y_train)  # Train model\n",
    "    y_pred = model.predict(X_test)  # Predict continuous values with Linear Regression\n",
    "\n",
    "    # For Linear Regression, convert continuous predictions to binary (0 or 1)\n",
    "    if name == \"Linear Regression\":\n",
    "        y_pred_binary = (y_pred > threshold).astype(int)  # Convert to binary class based on threshold\n",
    "    else:\n",
    "        y_pred_binary = y_pred  # For classifiers, y_pred is already binary\n",
    "\n",
    "    # Store the evaluation metrics\n",
    "    results[name] = {\n",
    "        \"Accuracy\": accuracy_score(Y_test, y_pred_binary),\n",
    "        \"Precision\": precision_score(Y_test, y_pred_binary),\n",
    "        \"Recall\": recall_score(Y_test, y_pred_binary),\n",
    "        \"F1-score\": f1_score(Y_test, y_pred_binary),\n",
    "    }\n",
    "\n",
    "# Print results\n",
    "for model, metrics in results.items():\n",
    "    print(f\"\\nModel: {model}\")\n",
    "    for metric, value in metrics.items():\n",
    "        print(f\"{metric}: {value:.4f}\")\n"
   ]
  },
  {
   "cell_type": "code",
   "execution_count": 111,
   "metadata": {},
   "outputs": [
    {
     "data": {
      "text/plain": [
       "(array([[ 0.9320124 , -1.24792009, -0.11914956, ..., -1.1391179 ,\n",
       "          2.82313451,  4.67282796],\n",
       "        [ 2.6989469 ,  2.08161691,  2.66503199, ...,  1.85197292,\n",
       "          2.01311199,  1.92862053],\n",
       "        [-0.97023893, -1.24522047, -0.69650228, ..., -1.10978518,\n",
       "         -0.36555756, -0.64491059],\n",
       "        ...,\n",
       "        [-1.23903365, -0.37984081, -1.10551525, ..., -0.06142266,\n",
       "         -1.02856666, -1.12796759],\n",
       "        [ 1.05001236,  0.20387802,  0.43005885, ..., -0.15477966,\n",
       "          0.29858532,  0.63253231],\n",
       "        [-0.61102866, -0.67559968, -0.80434493, ..., -0.5518995 ,\n",
       "         -0.81969927, -0.76538799]]),\n",
       " array([0, 1, 0, 0, 0, 1, 0, 0, 0, 1, 0, 1, 1, 0, 0, 1, 1, 1, 0, 0, 0, 1,\n",
       "        0, 0, 0, 1, 0, 1, 0, 0, 1, 0, 1, 1, 1, 0, 1, 0, 0, 0, 0, 1, 1, 0,\n",
       "        0, 0, 0, 0, 0, 0, 1, 0, 0, 0, 0, 1, 0, 0, 0, 0, 0, 0, 1, 0, 0, 0,\n",
       "        0, 0, 0, 1, 1, 1, 0, 0, 1, 0, 1, 0, 0, 0, 0, 1, 0, 0, 1, 0, 0, 0,\n",
       "        1, 0, 1, 1, 0, 0, 0, 1, 0, 0, 0, 0, 1, 0, 0, 0, 0, 0, 1, 0, 1, 1,\n",
       "        0, 0, 1, 0, 0, 0, 0, 0, 0, 0, 1, 1, 1, 0, 0, 1, 0, 0, 1, 0, 1, 0,\n",
       "        1, 0, 1, 0, 0, 1, 0, 0, 0, 1, 0, 1, 0, 1, 0, 1, 0, 0, 1, 0, 0, 0,\n",
       "        0, 1, 0, 0, 0, 1, 0, 0, 1, 0, 0, 1, 0, 0, 0, 0, 0, 0, 0, 1, 0, 0,\n",
       "        0, 1, 0, 1, 0, 0, 0, 1, 0, 1, 1, 0, 0, 1, 0, 1, 1, 1, 0, 0, 0, 1,\n",
       "        0, 0, 1, 0, 1, 0, 0, 0, 1, 0, 1, 0, 0, 1, 1, 0, 0, 1, 0, 1, 1, 0,\n",
       "        1, 1, 0, 0, 1, 1, 1, 0, 0, 0, 0, 1, 0, 1, 1, 1, 1, 0, 0, 0, 0, 0,\n",
       "        0, 0, 0, 1, 1, 0, 0, 1, 0, 0, 0, 0, 0, 1, 0, 0, 1, 1, 0, 1, 0, 1,\n",
       "        0, 0, 0, 0, 0, 0, 1, 0, 0, 1, 0, 0, 0, 0, 0, 0, 1, 0, 0, 1, 0, 1,\n",
       "        1, 1, 0, 1, 0, 0, 1, 1, 1, 0, 0, 0, 0, 0, 0, 0, 1, 0, 0, 0, 1, 0,\n",
       "        0, 1, 1, 0, 1, 0, 1, 1, 0, 0, 1, 0, 1, 1, 0, 1, 1, 0, 0, 1, 0, 1,\n",
       "        0, 0, 1, 0, 0, 1, 1, 1, 0, 0, 0, 1, 1, 0, 1, 1, 0, 0, 0, 1, 0, 1,\n",
       "        1, 1, 1, 0, 0, 1, 0, 0, 1, 1, 1, 1, 1, 1, 0, 0, 0, 0, 0, 0, 0, 1,\n",
       "        1, 1, 1, 0, 0, 0, 0, 1, 0, 1, 0, 0, 0, 0, 0, 1, 1, 1, 0, 0, 1, 0,\n",
       "        0, 1, 1, 1, 1, 0, 0, 1, 1, 0, 0, 0, 1, 1, 1, 0, 0, 1, 0, 0, 0, 0,\n",
       "        1, 0, 0, 0, 0, 0, 0, 0, 0, 0, 1, 0, 0, 0, 0, 0, 0, 1, 0, 0, 1, 0,\n",
       "        0, 1, 1, 1, 0, 1, 1, 0, 1, 0, 0, 0, 0, 1, 0]))"
      ]
     },
     "execution_count": 111,
     "metadata": {},
     "output_type": "execute_result"
    }
   ],
   "source": [
    "X_train, Y_train"
   ]
  },
  {
   "cell_type": "code",
   "execution_count": 112,
   "metadata": {},
   "outputs": [
    {
     "name": "stdout",
     "output_type": "stream",
     "text": [
      "\n",
      "Model: Linear Regression (Binarized)\n",
      "Accuracy: 0.9561\n",
      "Precision: 0.9750\n",
      "Recall: 0.9070\n",
      "F1-score: 0.9398\n",
      "\n",
      "Model: Random Forest\n",
      "Accuracy: 0.9561\n",
      "Precision: 0.9524\n",
      "Recall: 0.9302\n",
      "F1-score: 0.9412\n",
      "\n",
      "Model: Decision Tree\n",
      "Accuracy: 0.9386\n",
      "Precision: 0.9500\n",
      "Recall: 0.8837\n",
      "F1-score: 0.9157\n"
     ]
    }
   ],
   "source": [
    "from sklearn.linear_model import LinearRegression\n",
    "from sklearn.tree import DecisionTreeClassifier\n",
    "from sklearn.ensemble import RandomForestClassifier\n",
    "from sklearn.metrics import accuracy_score, precision_score, recall_score, f1_score\n",
    "import numpy as np\n",
    "\n",
    "# Models for evaluation\n",
    "models = {\n",
    "    \"Linear Regression (Binarized)\": LinearRegression(),\n",
    "    \"Random Forest\": RandomForestClassifier(),\n",
    "    \"Decision Tree\": DecisionTreeClassifier()\n",
    "}\n",
    "\n",
    "# Evaluate models\n",
    "results = {}\n",
    "for name, model in models.items():\n",
    "    model.fit(X_train, Y_train)  # Train the model\n",
    "    \n",
    "    if name == \"Linear Regression (Binarized)\":\n",
    "        y_pred_prob = model.predict(X_test)  # Continuous prediction\n",
    "        y_pred = np.where(y_pred_prob >= 0.5, 1, 0)  # Binarize predictions\n",
    "    else:\n",
    "        y_pred = model.predict(X_test)  # For classifiers, use direct predictions\n",
    "    \n",
    "    # Store evaluation metrics\n",
    "    results[name] = {\n",
    "        \"Accuracy\": accuracy_score(Y_test, y_pred),\n",
    "        \"Precision\": precision_score(Y_test, y_pred),\n",
    "        \"Recall\": recall_score(Y_test, y_pred),\n",
    "        \"F1-score\": f1_score(Y_test, y_pred),\n",
    "    }\n",
    "\n",
    "# Print results\n",
    "for model, metrics in results.items():\n",
    "    print(f\"\\nModel: {model}\")\n",
    "    for metric, value in metrics.items():\n",
    "        print(f\"{metric}: {value:.4f}\")\n"
   ]
  },
  {
   "cell_type": "code",
   "execution_count": 113,
   "metadata": {},
   "outputs": [
    {
     "data": {
      "text/plain": [
       "{'Linear Regression (Binarized)': {'Accuracy': 0.956140350877193,\n",
       "  'Precision': 0.975,\n",
       "  'Recall': 0.9069767441860465,\n",
       "  'F1-score': 0.9397590361445783},\n",
       " 'Random Forest': {'Accuracy': 0.956140350877193,\n",
       "  'Precision': 0.9523809523809523,\n",
       "  'Recall': 0.9302325581395349,\n",
       "  'F1-score': 0.9411764705882353},\n",
       " 'Decision Tree': {'Accuracy': 0.9385964912280702,\n",
       "  'Precision': 0.95,\n",
       "  'Recall': 0.8837209302325582,\n",
       "  'F1-score': 0.9156626506024096}}"
      ]
     },
     "execution_count": 113,
     "metadata": {},
     "output_type": "execute_result"
    }
   ],
   "source": [
    "results"
   ]
  },
  {
   "cell_type": "code",
   "execution_count": 114,
   "metadata": {},
   "outputs": [],
   "source": [
    "sorted_results = dict(sorted(results.items(), key=lambda item: item[1][\"Accuracy\"], reverse=True))\n"
   ]
  },
  {
   "cell_type": "code",
   "execution_count": 115,
   "metadata": {},
   "outputs": [
    {
     "data": {
      "text/plain": [
       "{'Linear Regression (Binarized)': {'Accuracy': 0.956140350877193,\n",
       "  'Precision': 0.975,\n",
       "  'Recall': 0.9069767441860465,\n",
       "  'F1-score': 0.9397590361445783},\n",
       " 'Random Forest': {'Accuracy': 0.956140350877193,\n",
       "  'Precision': 0.9523809523809523,\n",
       "  'Recall': 0.9302325581395349,\n",
       "  'F1-score': 0.9411764705882353},\n",
       " 'Decision Tree': {'Accuracy': 0.9385964912280702,\n",
       "  'Precision': 0.95,\n",
       "  'Recall': 0.8837209302325582,\n",
       "  'F1-score': 0.9156626506024096}}"
      ]
     },
     "execution_count": 115,
     "metadata": {},
     "output_type": "execute_result"
    }
   ],
   "source": [
    "sorted_results"
   ]
  },
  {
   "cell_type": "code",
   "execution_count": null,
   "metadata": {},
   "outputs": [],
   "source": []
  },
  {
   "cell_type": "code",
   "execution_count": null,
   "metadata": {},
   "outputs": [],
   "source": []
  },
  {
   "cell_type": "code",
   "execution_count": null,
   "metadata": {},
   "outputs": [],
   "source": []
  },
  {
   "cell_type": "code",
   "execution_count": null,
   "metadata": {},
   "outputs": [],
   "source": []
  }
 ],
 "metadata": {
  "kernelspec": {
   "display_name": "Python 3",
   "language": "python",
   "name": "python3"
  },
  "language_info": {
   "codemirror_mode": {
    "name": "ipython",
    "version": 3
   },
   "file_extension": ".py",
   "mimetype": "text/x-python",
   "name": "python",
   "nbconvert_exporter": "python",
   "pygments_lexer": "ipython3",
   "version": "3.12.4"
  }
 },
 "nbformat": 4,
 "nbformat_minor": 2
}
